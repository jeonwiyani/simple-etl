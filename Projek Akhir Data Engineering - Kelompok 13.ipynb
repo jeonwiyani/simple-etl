{
 "cells": [
  {
   "cell_type": "markdown",
   "metadata": {},
   "source": [
    "# Projek Akhir Data Engineering\n",
    "\n",
    "#### Anggota Kelompok :\n",
    "1. Nurfatima Selle - 175150201111058\n",
    "2. Jeowandha Ria Wiyani - 175150207111029\n",
    "3. Adinda Chilliya Basuki -175150207111040"
   ]
  },
  {
   "cell_type": "code",
   "execution_count": 1,
   "metadata": {},
   "outputs": [],
   "source": [
    "from pyspark.sql import SparkSession\n",
    "from pyspark import SparkContext, SparkConf, SQLContext\n",
    "from pyspark.sql.types import *\n",
    "\n",
    "if __name__ == '__main__':\n",
    "    scSpark = SparkSession \\\n",
    "        .builder \\\n",
    "        .appName(\"pipeline spark\") \\\n",
    "        .config(\"spark.driver.extraClassPath\", \n",
    "                \"/Users/WINDOWS 10/spark/spark-2.4.7-bin-hadoop2.7/jars/mysql-connector-java-8.0.22.jar\") \\\n",
    "        .getOrCreate()"
   ]
  },
  {
   "cell_type": "markdown",
   "metadata": {},
   "source": [
    "#### Mengambil Datasource"
   ]
  },
  {
   "cell_type": "code",
   "execution_count": 2,
   "metadata": {},
   "outputs": [
    {
     "name": "stdout",
     "output_type": "stream",
     "text": [
      "+----------+---------------+------+--------+---------+-----------+--------+------+----------+----+---------+-----+----------+-------------+--------+------------+-------+-------+--------+-------------+----------+\n",
      "|        id|           date| price|bedrooms|bathrooms|sqft_living|sqft_lot|floors|waterfront|view|condition|grade|sqft_above|sqft_basement|yr_built|yr_renovated|zipcode|    lat|    long|sqft_living15|sqft_lot15|\n",
      "+----------+---------------+------+--------+---------+-----------+--------+------+----------+----+---------+-----+----------+-------------+--------+------------+-------+-------+--------+-------------+----------+\n",
      "|7129300520|20141013T000000|221900|       3|        1|       1180|    5650|     1|         0|   0|        3|    7|      1180|            0|    1955|           0|  98178|47.5112|-122.257|         1340|      5650|\n",
      "|6414100192|20141209T000000|538000|       3|     2.25|       2570|    7242|     2|         0|   0|        3|    7|      2170|          400|    1951|        1991|  98125| 47.721|-122.319|         1690|      7639|\n",
      "|5631500400|20150225T000000|180000|       2|        1|        770|   10000|     1|         0|   0|        3|    6|       770|            0|    1933|           0|  98028|47.7379|-122.233|         2720|      8062|\n",
      "|2487200875|20141209T000000|604000|       4|        3|       1960|    5000|     1|         0|   0|        5|    7|      1050|          910|    1965|           0|  98136|47.5208|-122.393|         1360|      5000|\n",
      "|1954400510|20150218T000000|510000|       3|        2|       1680|    8080|     1|         0|   0|        3|    8|      1680|            0|    1987|           0|  98074|47.6168|-122.045|         1800|      7503|\n",
      "+----------+---------------+------+--------+---------+-----------+--------+------+----------+----+---------+-----+----------+-------------+--------+------------+-------+-------+--------+-------------+----------+\n",
      "only showing top 5 rows\n",
      "\n",
      "root\n",
      " |-- id: string (nullable = true)\n",
      " |-- date: string (nullable = true)\n",
      " |-- price: string (nullable = true)\n",
      " |-- bedrooms: string (nullable = true)\n",
      " |-- bathrooms: string (nullable = true)\n",
      " |-- sqft_living: string (nullable = true)\n",
      " |-- sqft_lot: string (nullable = true)\n",
      " |-- floors: string (nullable = true)\n",
      " |-- waterfront: string (nullable = true)\n",
      " |-- view: string (nullable = true)\n",
      " |-- condition: string (nullable = true)\n",
      " |-- grade: string (nullable = true)\n",
      " |-- sqft_above: string (nullable = true)\n",
      " |-- sqft_basement: string (nullable = true)\n",
      " |-- yr_built: string (nullable = true)\n",
      " |-- yr_renovated: string (nullable = true)\n",
      " |-- zipcode: string (nullable = true)\n",
      " |-- lat: string (nullable = true)\n",
      " |-- long: string (nullable = true)\n",
      " |-- sqft_living15: string (nullable = true)\n",
      " |-- sqft_lot15: string (nullable = true)\n",
      "\n"
     ]
    }
   ],
   "source": [
    "#Extract\n",
    "dataset = 'C:/Users/WINDOWS 10/kc_house_data.csv' \n",
    "datasetDf = scSpark.read.csv(dataset, header=True, sep=\",\").cache()\n",
    "\n",
    "datasetDf.show(5)\n",
    "datasetDf.printSchema()"
   ]
  },
  {
   "cell_type": "markdown",
   "metadata": {},
   "source": [
    "#### Menyesuaikan Schema\n",
    "Mengubah beberapa tipe data dari kolom"
   ]
  },
  {
   "cell_type": "code",
   "execution_count": 3,
   "metadata": {},
   "outputs": [
    {
     "name": "stdout",
     "output_type": "stream",
     "text": [
      "root\n",
      " |-- id: string (nullable = true)\n",
      " |-- date: date (nullable = true)\n",
      " |-- price: float (nullable = true)\n",
      " |-- bedrooms: float (nullable = true)\n",
      " |-- bathrooms: float (nullable = true)\n",
      " |-- sqft_living: float (nullable = true)\n",
      " |-- sqft_lot: float (nullable = true)\n",
      " |-- floors: float (nullable = true)\n",
      " |-- waterfront: float (nullable = true)\n",
      " |-- view: float (nullable = true)\n",
      " |-- condition: float (nullable = true)\n",
      " |-- grade: float (nullable = true)\n",
      " |-- sqft_above: float (nullable = true)\n",
      " |-- sqft_basement: string (nullable = true)\n",
      " |-- yr_built: integer (nullable = true)\n",
      " |-- yr_renovated: integer (nullable = true)\n",
      " |-- zipcode: string (nullable = true)\n",
      " |-- lat: string (nullable = true)\n",
      " |-- long: string (nullable = true)\n",
      " |-- sqft_living15: float (nullable = true)\n",
      " |-- sqft_lot15: float (nullable = true)\n",
      "\n"
     ]
    }
   ],
   "source": [
    "datasetDf = datasetDf.withColumn(\"date\", datasetDf[\"date\"].cast(DateType()))\n",
    "datasetDf = datasetDf.withColumn(\"price\", datasetDf[\"price\"].cast(FloatType()))\n",
    "datasetDf = datasetDf.withColumn(\"bedrooms\", datasetDf[\"bedrooms\"].cast(FloatType()))\n",
    "datasetDf = datasetDf.withColumn(\"bathrooms\", datasetDf[\"bathrooms\"].cast(FloatType()))\n",
    "datasetDf = datasetDf.withColumn(\"sqft_living\", datasetDf[\"sqft_living\"].cast(FloatType()))\n",
    "datasetDf = datasetDf.withColumn(\"sqft_lot\", datasetDf[\"sqft_lot\"].cast(FloatType()))\n",
    "datasetDf = datasetDf.withColumn(\"floors\", datasetDf[\"floors\"].cast(FloatType()))\n",
    "datasetDf = datasetDf.withColumn(\"waterfront\", datasetDf[\"waterfront\"].cast(FloatType()))\n",
    "datasetDf = datasetDf.withColumn(\"view\", datasetDf[\"view\"].cast(FloatType()))\n",
    "datasetDf = datasetDf.withColumn(\"condition\", datasetDf[\"condition\"].cast(FloatType()))\n",
    "datasetDf = datasetDf.withColumn(\"grade\", datasetDf[\"grade\"].cast(FloatType()))\n",
    "datasetDf = datasetDf.withColumn(\"sqft_above\", datasetDf[\"sqft_above\"].cast(FloatType()))\n",
    "datasetDf = datasetDf.withColumn(\"yr_built\", datasetDf[\"yr_built\"].cast(IntegerType()))\n",
    "datasetDf = datasetDf.withColumn(\"yr_renovated\", datasetDf[\"yr_renovated\"].cast(IntegerType()))\n",
    "datasetDf = datasetDf.withColumn(\"sqft_living15\", datasetDf[\"sqft_living15\"].cast(FloatType()))\n",
    "datasetDf = datasetDf.withColumn(\"sqft_lot15\", datasetDf[\"sqft_lot15\"].cast(FloatType()))\n",
    "\n",
    "datasetDf.printSchema()"
   ]
  },
  {
   "cell_type": "markdown",
   "metadata": {},
   "source": [
    "#### Preprocess"
   ]
  },
  {
   "cell_type": "code",
   "execution_count": 4,
   "metadata": {},
   "outputs": [
    {
     "name": "stdout",
     "output_type": "stream",
     "text": [
      "+----------+--------+--------+---------+-----------+--------+------+---------+-----+----------+-------------+--------+------------+\n",
      "|        id|   price|bedrooms|bathrooms|sqft_living|sqft_lot|floors|condition|grade|sqft_above|sqft_basement|yr_built|yr_renovated|\n",
      "+----------+--------+--------+---------+-----------+--------+------+---------+-----+----------+-------------+--------+------------+\n",
      "|7129300520|221900.0|     3.0|      1.0|     1180.0|  5650.0|   1.0|      3.0|  7.0|    1180.0|            0|    1955|           0|\n",
      "|6414100192|538000.0|     3.0|     2.25|     2570.0|  7242.0|   2.0|      3.0|  7.0|    2170.0|          400|    1951|        1991|\n",
      "|5631500400|180000.0|     2.0|      1.0|      770.0| 10000.0|   1.0|      3.0|  6.0|     770.0|            0|    1933|           0|\n",
      "|2487200875|604000.0|     4.0|      3.0|     1960.0|  5000.0|   1.0|      5.0|  7.0|    1050.0|          910|    1965|           0|\n",
      "|1954400510|510000.0|     3.0|      2.0|     1680.0|  8080.0|   1.0|      3.0|  8.0|    1680.0|            0|    1987|           0|\n",
      "+----------+--------+--------+---------+-----------+--------+------+---------+-----+----------+-------------+--------+------------+\n",
      "only showing top 5 rows\n",
      "\n"
     ]
    }
   ],
   "source": [
    "cleanDatasetDf = datasetDf.drop('date','waterfront','view','lat','sqft_living15','sqft_lot15','long', 'zipcode')\n",
    "cleanDatasetDf.show(5)"
   ]
  },
  {
   "cell_type": "markdown",
   "metadata": {},
   "source": [
    "#### Memasukkan ke Database"
   ]
  },
  {
   "cell_type": "code",
   "execution_count": 5,
   "metadata": {},
   "outputs": [],
   "source": [
    "cleanDatasetDf.write.format('jdbc').options(\n",
    "    url='jdbc:mysql://localhost/dataengineering',\n",
    "    driver='com.mysql.cj.jdbc.Driver',\n",
    "    dbtable='house_price',\n",
    "    user='root').mode('append').save()"
   ]
  },
  {
   "cell_type": "markdown",
   "metadata": {},
   "source": [
    "#### Ambil Subset Data dari Database"
   ]
  },
  {
   "cell_type": "code",
   "execution_count": 6,
   "metadata": {},
   "outputs": [],
   "source": [
    "# !pip install mysql-connector-python"
   ]
  },
  {
   "cell_type": "code",
   "execution_count": 7,
   "metadata": {},
   "outputs": [],
   "source": [
    "import mysql.connector\n",
    "import pandas as pd\n",
    "\n",
    "mydb = mysql.connector.connect(\n",
    "  host=\"localhost\",\n",
    "  user=\"root\",\n",
    "  database=\"dataengineering\"\n",
    ")\n",
    "\n",
    "cursor = mydb.cursor()\n",
    "cursor.execute(\"SELECT price, bedrooms, bathrooms, sqft_living, sqft_lot, grade FROM house_price\")\n",
    "\n",
    "hasilSubset = cursor.fetchall()\n",
    "subsetDf = scSpark.createDataFrame(hasilSubset).toDF(\"price\", \"bedrooms\", \"bathrooms\", \"sqft_living\", \"sqft_lot\", \"grade\")\n",
    "subsetPandasDf = subsetDf.toPandas()"
   ]
  },
  {
   "cell_type": "markdown",
   "metadata": {},
   "source": [
    "#### Proses EDA"
   ]
  },
  {
   "cell_type": "code",
   "execution_count": 8,
   "metadata": {},
   "outputs": [
    {
     "data": {
      "text/html": [
       "<div>\n",
       "<style scoped>\n",
       "    .dataframe tbody tr th:only-of-type {\n",
       "        vertical-align: middle;\n",
       "    }\n",
       "\n",
       "    .dataframe tbody tr th {\n",
       "        vertical-align: top;\n",
       "    }\n",
       "\n",
       "    .dataframe thead th {\n",
       "        text-align: right;\n",
       "    }\n",
       "</style>\n",
       "<table border=\"1\" class=\"dataframe\">\n",
       "  <thead>\n",
       "    <tr style=\"text-align: right;\">\n",
       "      <th></th>\n",
       "      <th>price</th>\n",
       "      <th>bedrooms</th>\n",
       "      <th>bathrooms</th>\n",
       "      <th>sqft_living</th>\n",
       "      <th>sqft_lot</th>\n",
       "      <th>grade</th>\n",
       "    </tr>\n",
       "  </thead>\n",
       "  <tbody>\n",
       "    <tr>\n",
       "      <td>0</td>\n",
       "      <td>221900.0</td>\n",
       "      <td>3.0</td>\n",
       "      <td>1.00</td>\n",
       "      <td>1180.0</td>\n",
       "      <td>5650.0</td>\n",
       "      <td>7.0</td>\n",
       "    </tr>\n",
       "    <tr>\n",
       "      <td>1</td>\n",
       "      <td>538000.0</td>\n",
       "      <td>3.0</td>\n",
       "      <td>2.25</td>\n",
       "      <td>2570.0</td>\n",
       "      <td>7242.0</td>\n",
       "      <td>7.0</td>\n",
       "    </tr>\n",
       "    <tr>\n",
       "      <td>2</td>\n",
       "      <td>180000.0</td>\n",
       "      <td>2.0</td>\n",
       "      <td>1.00</td>\n",
       "      <td>770.0</td>\n",
       "      <td>10000.0</td>\n",
       "      <td>6.0</td>\n",
       "    </tr>\n",
       "    <tr>\n",
       "      <td>3</td>\n",
       "      <td>604000.0</td>\n",
       "      <td>4.0</td>\n",
       "      <td>3.00</td>\n",
       "      <td>1960.0</td>\n",
       "      <td>5000.0</td>\n",
       "      <td>7.0</td>\n",
       "    </tr>\n",
       "    <tr>\n",
       "      <td>4</td>\n",
       "      <td>510000.0</td>\n",
       "      <td>3.0</td>\n",
       "      <td>2.00</td>\n",
       "      <td>1680.0</td>\n",
       "      <td>8080.0</td>\n",
       "      <td>8.0</td>\n",
       "    </tr>\n",
       "  </tbody>\n",
       "</table>\n",
       "</div>"
      ],
      "text/plain": [
       "      price  bedrooms  bathrooms  sqft_living  sqft_lot  grade\n",
       "0  221900.0       3.0       1.00       1180.0    5650.0    7.0\n",
       "1  538000.0       3.0       2.25       2570.0    7242.0    7.0\n",
       "2  180000.0       2.0       1.00        770.0   10000.0    6.0\n",
       "3  604000.0       4.0       3.00       1960.0    5000.0    7.0\n",
       "4  510000.0       3.0       2.00       1680.0    8080.0    8.0"
      ]
     },
     "execution_count": 8,
     "metadata": {},
     "output_type": "execute_result"
    }
   ],
   "source": [
    "subsetPandasDf.head(5)"
   ]
  },
  {
   "cell_type": "code",
   "execution_count": 9,
   "metadata": {},
   "outputs": [
    {
     "data": {
      "text/plain": [
       "(216130, 6)"
      ]
     },
     "execution_count": 9,
     "metadata": {},
     "output_type": "execute_result"
    }
   ],
   "source": [
    "subsetPandasDf.shape"
   ]
  },
  {
   "cell_type": "code",
   "execution_count": 10,
   "metadata": {},
   "outputs": [
    {
     "name": "stdout",
     "output_type": "stream",
     "text": [
      "<class 'pandas.core.frame.DataFrame'>\n",
      "RangeIndex: 216130 entries, 0 to 216129\n",
      "Data columns (total 6 columns):\n",
      "price          216130 non-null float64\n",
      "bedrooms       216130 non-null float64\n",
      "bathrooms      216130 non-null float64\n",
      "sqft_living    216130 non-null float64\n",
      "sqft_lot       216130 non-null float64\n",
      "grade          216130 non-null float64\n",
      "dtypes: float64(6)\n",
      "memory usage: 9.9 MB\n"
     ]
    }
   ],
   "source": [
    "subsetPandasDf.info()"
   ]
  },
  {
   "cell_type": "code",
   "execution_count": 11,
   "metadata": {},
   "outputs": [
    {
     "data": {
      "text/html": [
       "<div>\n",
       "<style scoped>\n",
       "    .dataframe tbody tr th:only-of-type {\n",
       "        vertical-align: middle;\n",
       "    }\n",
       "\n",
       "    .dataframe tbody tr th {\n",
       "        vertical-align: top;\n",
       "    }\n",
       "\n",
       "    .dataframe thead th {\n",
       "        text-align: right;\n",
       "    }\n",
       "</style>\n",
       "<table border=\"1\" class=\"dataframe\">\n",
       "  <thead>\n",
       "    <tr style=\"text-align: right;\">\n",
       "      <th></th>\n",
       "      <th>price</th>\n",
       "      <th>bedrooms</th>\n",
       "      <th>bathrooms</th>\n",
       "      <th>sqft_living</th>\n",
       "      <th>sqft_lot</th>\n",
       "      <th>grade</th>\n",
       "    </tr>\n",
       "  </thead>\n",
       "  <tbody>\n",
       "    <tr>\n",
       "      <td>count</td>\n",
       "      <td>2.161300e+05</td>\n",
       "      <td>216130.000000</td>\n",
       "      <td>216130.000000</td>\n",
       "      <td>216130.000000</td>\n",
       "      <td>2.161300e+05</td>\n",
       "      <td>216130.000000</td>\n",
       "    </tr>\n",
       "    <tr>\n",
       "      <td>mean</td>\n",
       "      <td>5.400881e+05</td>\n",
       "      <td>3.370842</td>\n",
       "      <td>2.114757</td>\n",
       "      <td>2079.899736</td>\n",
       "      <td>1.510697e+04</td>\n",
       "      <td>7.656873</td>\n",
       "    </tr>\n",
       "    <tr>\n",
       "      <td>std</td>\n",
       "      <td>3.671196e+05</td>\n",
       "      <td>0.930042</td>\n",
       "      <td>0.770147</td>\n",
       "      <td>918.421774</td>\n",
       "      <td>4.141965e+04</td>\n",
       "      <td>1.175434</td>\n",
       "    </tr>\n",
       "    <tr>\n",
       "      <td>min</td>\n",
       "      <td>7.500000e+04</td>\n",
       "      <td>0.000000</td>\n",
       "      <td>0.000000</td>\n",
       "      <td>290.000000</td>\n",
       "      <td>5.200000e+02</td>\n",
       "      <td>1.000000</td>\n",
       "    </tr>\n",
       "    <tr>\n",
       "      <td>25%</td>\n",
       "      <td>3.219500e+05</td>\n",
       "      <td>3.000000</td>\n",
       "      <td>1.750000</td>\n",
       "      <td>1427.000000</td>\n",
       "      <td>5.040000e+03</td>\n",
       "      <td>7.000000</td>\n",
       "    </tr>\n",
       "    <tr>\n",
       "      <td>50%</td>\n",
       "      <td>4.500000e+05</td>\n",
       "      <td>3.000000</td>\n",
       "      <td>2.250000</td>\n",
       "      <td>1910.000000</td>\n",
       "      <td>7.618000e+03</td>\n",
       "      <td>7.000000</td>\n",
       "    </tr>\n",
       "    <tr>\n",
       "      <td>75%</td>\n",
       "      <td>6.450000e+05</td>\n",
       "      <td>4.000000</td>\n",
       "      <td>2.500000</td>\n",
       "      <td>2550.000000</td>\n",
       "      <td>1.068800e+04</td>\n",
       "      <td>8.000000</td>\n",
       "    </tr>\n",
       "    <tr>\n",
       "      <td>max</td>\n",
       "      <td>7.700000e+06</td>\n",
       "      <td>33.000000</td>\n",
       "      <td>8.000000</td>\n",
       "      <td>13540.000000</td>\n",
       "      <td>1.651360e+06</td>\n",
       "      <td>13.000000</td>\n",
       "    </tr>\n",
       "  </tbody>\n",
       "</table>\n",
       "</div>"
      ],
      "text/plain": [
       "              price       bedrooms      bathrooms    sqft_living  \\\n",
       "count  2.161300e+05  216130.000000  216130.000000  216130.000000   \n",
       "mean   5.400881e+05       3.370842       2.114757    2079.899736   \n",
       "std    3.671196e+05       0.930042       0.770147     918.421774   \n",
       "min    7.500000e+04       0.000000       0.000000     290.000000   \n",
       "25%    3.219500e+05       3.000000       1.750000    1427.000000   \n",
       "50%    4.500000e+05       3.000000       2.250000    1910.000000   \n",
       "75%    6.450000e+05       4.000000       2.500000    2550.000000   \n",
       "max    7.700000e+06      33.000000       8.000000   13540.000000   \n",
       "\n",
       "           sqft_lot          grade  \n",
       "count  2.161300e+05  216130.000000  \n",
       "mean   1.510697e+04       7.656873  \n",
       "std    4.141965e+04       1.175434  \n",
       "min    5.200000e+02       1.000000  \n",
       "25%    5.040000e+03       7.000000  \n",
       "50%    7.618000e+03       7.000000  \n",
       "75%    1.068800e+04       8.000000  \n",
       "max    1.651360e+06      13.000000  "
      ]
     },
     "execution_count": 11,
     "metadata": {},
     "output_type": "execute_result"
    }
   ],
   "source": [
    "subsetPandasDf.describe()"
   ]
  },
  {
   "cell_type": "code",
   "execution_count": 12,
   "metadata": {},
   "outputs": [],
   "source": [
    "import seaborn as sns\n",
    "import matplotlib.pyplot as plt\n",
    "\n",
    "fig, axes = plt.subplots(figsize=(20,10))\n",
    "corrResult = sns.heatmap(subsetPandasDf, cmap='coolwarm', annot=True, annot_kws={'size':10}, fmt=\".7f\", ax=axes)"
   ]
  },
  {
   "cell_type": "markdown",
   "metadata": {},
   "source": [
    "#### Proses Machine Learning"
   ]
  },
  {
   "cell_type": "code",
   "execution_count": 13,
   "metadata": {},
   "outputs": [],
   "source": [
    "import numpy as np\n",
    "import multiprocessing as mp\n",
    "from sklearn.model_selection import train_test_split\n",
    "from sklearn.linear_model import LinearRegression\n",
    "from multiprocessing import Pool\n",
    "import time"
   ]
  },
  {
   "cell_type": "code",
   "execution_count": 14,
   "metadata": {},
   "outputs": [
    {
     "name": "stdout",
     "output_type": "stream",
     "text": [
      "        bedrooms  bathrooms  sqft_living  sqft_lot  grade\n",
      "0            3.0       1.00       1180.0    5650.0    7.0\n",
      "1            3.0       2.25       2570.0    7242.0    7.0\n",
      "2            2.0       1.00        770.0   10000.0    6.0\n",
      "3            4.0       3.00       1960.0    5000.0    7.0\n",
      "4            3.0       2.00       1680.0    8080.0    8.0\n",
      "...          ...        ...          ...       ...    ...\n",
      "216125       3.0       2.50       1530.0    1131.0    8.0\n",
      "216126       4.0       2.50       2310.0    5813.0    8.0\n",
      "216127       2.0       0.75       1020.0    1350.0    7.0\n",
      "216128       3.0       2.50       1600.0    2388.0    8.0\n",
      "216129       2.0       0.75       1020.0    1076.0    7.0\n",
      "\n",
      "[216130 rows x 5 columns] [[221900.]\n",
      " [538000.]\n",
      " [180000.]\n",
      " ...\n",
      " [402101.]\n",
      " [400000.]\n",
      " [325000.]]\n"
     ]
    }
   ],
   "source": [
    "x = subsetPandasDf.drop(['price'], axis=1)\n",
    "y = subsetPandasDf['price'].values.reshape(-1,1)\n",
    "print(x, y)"
   ]
  },
  {
   "cell_type": "code",
   "execution_count": 15,
   "metadata": {},
   "outputs": [],
   "source": [
    "def regresi(x_train, y_train, x_test, y_test):\n",
    "  # Mengaktifkan/memanggil/membuat fungsi regresi linear\n",
    "  lin_reg = LinearRegression()\n",
    "  model = lin_reg.fit(x_train, y_train)\n",
    "  # make predictions\n",
    "  y_pred = model.predict(x_test)\n",
    "  # menghitung akurasi\n",
    "  akurasi =  model.score(x_test, y_test)\n",
    "  hasil=pd.DataFrame({'Harga Asli':y_test.flatten(),'Harga Prediksi':y_pred.flatten()})\n",
    "  print(hasil.head(10))\n",
    "  print(\"\\nAkurasi hasil prediksi: \", str(akurasi))\n",
    "  return akurasi, hasil"
   ]
  },
  {
   "cell_type": "code",
   "execution_count": 16,
   "metadata": {},
   "outputs": [],
   "source": [
    "%%time\n",
    "with Pool(5) as p:\n",
    "  x_train, x_test, y_train, y_test = train_test_split(x, y, test_size=0.2)\n",
    "  tasks = [(x_train, x_test, y_train, y_test)]\n",
    "  result = p.map(regresi, tasks)"
   ]
  },
  {
   "cell_type": "code",
   "execution_count": 17,
   "metadata": {},
   "outputs": [],
   "source": [
    "x_train, x_test, y_train, y_test = train_test_split(x, y, test_size=0.2)\n",
    "x_train2, x_test2, y_train2, y_test2 = train_test_split(x, y, test_size=0.3)"
   ]
  },
  {
   "cell_type": "code",
   "execution_count": 18,
   "metadata": {},
   "outputs": [
    {
     "name": "stdout",
     "output_type": "stream",
     "text": [
      "   Harga Asli  Harga Prediksi\n",
      "0    261590.0   165582.058607\n",
      "1    235000.0   280128.587011\n",
      "2    760000.0   977248.306870\n",
      "3    242000.0   400736.188823\n",
      "4    785000.0   501258.628229\n",
      "5    275500.0   154678.171603\n",
      "6    734000.0   766223.222435\n",
      "7    454000.0   371528.110536\n",
      "8    400000.0   421256.314053\n",
      "9    251000.0   144417.235467\n",
      "\n",
      "Akurasi hasil prediksi:  0.5492102339023104\n",
      "Wall time: 1.22 s\n"
     ]
    },
    {
     "data": {
      "text/plain": [
       "(0.5492102339023104,        Harga Asli  Harga Prediksi\n",
       " 0        261590.0   165582.058607\n",
       " 1        235000.0   280128.587011\n",
       " 2        760000.0   977248.306870\n",
       " 3        242000.0   400736.188823\n",
       " 4        785000.0   501258.628229\n",
       " ...           ...             ...\n",
       " 43221    850000.0   713390.316016\n",
       " 43222    720000.0   872083.890588\n",
       " 43223    218000.0   265884.162462\n",
       " 43224    630000.0   447845.893239\n",
       " 43225    530200.0   494139.831155\n",
       " \n",
       " [43226 rows x 2 columns])"
      ]
     },
     "execution_count": 18,
     "metadata": {},
     "output_type": "execute_result"
    }
   ],
   "source": [
    "%%time\n",
    "regresi(x_train, y_train, x_test, y_test)"
   ]
  },
  {
   "cell_type": "code",
   "execution_count": 19,
   "metadata": {},
   "outputs": [
    {
     "name": "stdout",
     "output_type": "stream",
     "text": [
      "   Harga Asli  Harga Prediksi\n",
      "0    235000.0    3.323803e+05\n",
      "1    438000.0    3.452599e+05\n",
      "2    295000.0    8.590181e+04\n",
      "3    583000.0    1.031542e+06\n",
      "4    309500.0    3.347410e+05\n",
      "5    540000.0    3.900576e+05\n",
      "6    960000.0    6.585113e+05\n",
      "7    870000.0    1.030813e+06\n",
      "8    651000.0    4.661497e+05\n",
      "9   1378000.0    9.351744e+05\n",
      "\n",
      "Akurasi hasil prediksi:  0.5437450302938245\n",
      "Wall time: 237 ms\n"
     ]
    },
    {
     "data": {
      "text/plain": [
       "(0.5437450302938245,        Harga Asli  Harga Prediksi\n",
       " 0        235000.0    3.323803e+05\n",
       " 1        438000.0    3.452599e+05\n",
       " 2        295000.0    8.590181e+04\n",
       " 3        583000.0    1.031542e+06\n",
       " 4        309500.0    3.347410e+05\n",
       " ...           ...             ...\n",
       " 64834   1047500.0    8.784279e+05\n",
       " 64835    750000.0    5.840924e+05\n",
       " 64836    442500.0    3.933319e+05\n",
       " 64837   1185000.0    1.236508e+06\n",
       " 64838    270000.0    2.978707e+05\n",
       " \n",
       " [64839 rows x 2 columns])"
      ]
     },
     "execution_count": 19,
     "metadata": {},
     "output_type": "execute_result"
    }
   ],
   "source": [
    "%%time\n",
    "regresi(x_train2, y_train2, x_test2, y_test2)"
   ]
  },
  {
   "cell_type": "code",
   "execution_count": null,
   "metadata": {},
   "outputs": [],
   "source": []
  }
 ],
 "metadata": {
  "kernelspec": {
   "display_name": "Python 3",
   "language": "python",
   "name": "python3"
  },
  "language_info": {
   "codemirror_mode": {
    "name": "ipython",
    "version": 3
   },
   "file_extension": ".py",
   "mimetype": "text/x-python",
   "name": "python",
   "nbconvert_exporter": "python",
   "pygments_lexer": "ipython3",
   "version": "3.7.4"
  }
 },
 "nbformat": 4,
 "nbformat_minor": 2
}
